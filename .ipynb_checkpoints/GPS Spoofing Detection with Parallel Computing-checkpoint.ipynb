{
 "cells": [
  {
   "cell_type": "code",
   "execution_count": 68,
   "id": "7e0331f7-d17f-4611-a7be-2ac2c9bedbbf",
   "metadata": {},
   "outputs": [],
   "source": [
    "import pandas as pd\n",
    "import numpy as np\n",
    "from geopy.distance import geodesic\n",
    "import time"
   ]
  },
  {
   "cell_type": "code",
   "execution_count": 2,
   "id": "42e8a19d-b686-472c-9114-742d283b5a0f",
   "metadata": {},
   "outputs": [],
   "source": [
    "start = time.time()\n",
    "data = pd.read_csv('/Users/sazid/Documents/vinlus dataset/GPS Spoofing Detection with Parallel Computing/aisdk-2006-03/aisdk_20060302.csv')"
   ]
  },
  {
   "cell_type": "code",
   "execution_count": 3,
   "id": "9ca4e8be-2482-41bb-8be8-4ab6adbfd4c7",
   "metadata": {},
   "outputs": [],
   "source": [
    "data1 = data.rename(columns = {'# Timestamp':'Timestamp'})\n",
    "data1['Timestamp']=pd.to_datetime(data1['Timestamp'], format='%d/%m/%Y %H:%M:%S')\n",
    "data1['ETA']= pd.to_datetime(data1['ETA'], format='%d/%m/%Y %H:%M:%S', errors='coerce')\n",
    "\n",
    "\n"
   ]
  },
  {
   "cell_type": "code",
   "execution_count": 4,
   "id": "005b9187-2301-4fcb-9309-425bbc2e3a9e",
   "metadata": {},
   "outputs": [],
   "source": [
    "data1 = data1[ ~(\n",
    "    \n",
    "    data1['ROT'].isnull() &\n",
    "    data1['SOG'].isnull() &\n",
    "    data1['Navigational status'].str.contains('Unknown value',case=False, na=False)\n",
    "    \n",
    ")] "
   ]
  },
  {
   "cell_type": "code",
   "execution_count": 5,
   "id": "b831544b-1785-490d-8bff-e389ee384283",
   "metadata": {},
   "outputs": [],
   "source": [
    "data1 = data1.drop(['IMO','Callsign','Cargo type','Ship type'], axis=1)"
   ]
  },
  {
   "cell_type": "code",
   "execution_count": 51,
   "id": "d66af1f6-2229-4652-9776-c2483ffed79b",
   "metadata": {},
   "outputs": [
    {
     "data": {
      "text/plain": [
       "2532"
      ]
     },
     "execution_count": 51,
     "metadata": {},
     "output_type": "execute_result"
    }
   ],
   "source": [
    "data1['SOG'].isnull().sum()"
   ]
  },
  {
   "cell_type": "code",
   "execution_count": 52,
   "id": "2e2d11c7-5a6d-4467-a0b6-b091e7afc1a3",
   "metadata": {},
   "outputs": [],
   "source": [
    "data1['SOG'] = data1['SOG'].fillna(0)"
   ]
  },
  {
   "cell_type": "code",
   "execution_count": null,
   "id": "83263e06-6ab4-494d-9539-3927ec068c78",
   "metadata": {},
   "outputs": [],
   "source": []
  },
  {
   "cell_type": "code",
   "execution_count": null,
   "id": "f0dbfd77-e434-4f20-b1b3-06eebe8cfa10",
   "metadata": {},
   "outputs": [],
   "source": []
  },
  {
   "cell_type": "code",
   "execution_count": 127,
   "id": "326df797-a009-4d5c-a659-5dc7a6632fd8",
   "metadata": {},
   "outputs": [],
   "source": [
    "data1 =  data1[((data1['Latitude']<=90) & (data1['Latitude']>= -90)) & ((data1['Longitude']<=180 ) & (data1['Longitude']>= -180))]"
   ]
  },
  {
   "cell_type": "code",
   "execution_count": 128,
   "id": "99e6b0aa-cd99-45b3-ad11-e3b5c97e6941",
   "metadata": {},
   "outputs": [
    {
     "data": {
      "text/html": [
       "<div>\n",
       "<style scoped>\n",
       "    .dataframe tbody tr th:only-of-type {\n",
       "        vertical-align: middle;\n",
       "    }\n",
       "\n",
       "    .dataframe tbody tr th {\n",
       "        vertical-align: top;\n",
       "    }\n",
       "\n",
       "    .dataframe thead th {\n",
       "        text-align: right;\n",
       "    }\n",
       "</style>\n",
       "<table border=\"1\" class=\"dataframe\">\n",
       "  <thead>\n",
       "    <tr style=\"text-align: right;\">\n",
       "      <th></th>\n",
       "      <th>Timestamp</th>\n",
       "      <th>Type of mobile</th>\n",
       "      <th>MMSI</th>\n",
       "      <th>Latitude</th>\n",
       "      <th>Longitude</th>\n",
       "      <th>Navigational status</th>\n",
       "      <th>ROT</th>\n",
       "      <th>SOG</th>\n",
       "      <th>COG</th>\n",
       "      <th>Heading</th>\n",
       "      <th>Name</th>\n",
       "      <th>Width</th>\n",
       "      <th>Length</th>\n",
       "      <th>Type of position fixing device</th>\n",
       "      <th>Draught</th>\n",
       "      <th>Destination</th>\n",
       "      <th>ETA</th>\n",
       "      <th>Data source type</th>\n",
       "    </tr>\n",
       "  </thead>\n",
       "  <tbody>\n",
       "    <tr>\n",
       "      <th>336</th>\n",
       "      <td>2006-03-02 00:00:46</td>\n",
       "      <td>Class A</td>\n",
       "      <td>0</td>\n",
       "      <td>56.039903</td>\n",
       "      <td>12.689080</td>\n",
       "      <td>Unknown value</td>\n",
       "      <td>NaN</td>\n",
       "      <td>0.0</td>\n",
       "      <td>0.0</td>\n",
       "      <td>NaN</td>\n",
       "      <td>JOTRON0</td>\n",
       "      <td>NaN</td>\n",
       "      <td>NaN</td>\n",
       "      <td>GPS</td>\n",
       "      <td>NaN</td>\n",
       "      <td>NaN</td>\n",
       "      <td>NaT</td>\n",
       "      <td>AIS</td>\n",
       "    </tr>\n",
       "    <tr>\n",
       "      <th>2750</th>\n",
       "      <td>2006-03-02 00:05:56</td>\n",
       "      <td>Class A</td>\n",
       "      <td>0</td>\n",
       "      <td>56.039903</td>\n",
       "      <td>12.689080</td>\n",
       "      <td>Unknown value</td>\n",
       "      <td>NaN</td>\n",
       "      <td>0.0</td>\n",
       "      <td>0.0</td>\n",
       "      <td>NaN</td>\n",
       "      <td>JOTRON0</td>\n",
       "      <td>NaN</td>\n",
       "      <td>NaN</td>\n",
       "      <td>GPS</td>\n",
       "      <td>NaN</td>\n",
       "      <td>NaN</td>\n",
       "      <td>NaT</td>\n",
       "      <td>AIS</td>\n",
       "    </tr>\n",
       "    <tr>\n",
       "      <th>2867</th>\n",
       "      <td>2006-03-02 00:06:11</td>\n",
       "      <td>Class A</td>\n",
       "      <td>0</td>\n",
       "      <td>56.039903</td>\n",
       "      <td>12.689080</td>\n",
       "      <td>Unknown value</td>\n",
       "      <td>NaN</td>\n",
       "      <td>0.0</td>\n",
       "      <td>0.0</td>\n",
       "      <td>NaN</td>\n",
       "      <td>JOTRON0</td>\n",
       "      <td>NaN</td>\n",
       "      <td>NaN</td>\n",
       "      <td>GPS</td>\n",
       "      <td>NaN</td>\n",
       "      <td>NaN</td>\n",
       "      <td>NaT</td>\n",
       "      <td>AIS</td>\n",
       "    </tr>\n",
       "    <tr>\n",
       "      <th>3153</th>\n",
       "      <td>2006-03-02 00:06:47</td>\n",
       "      <td>Class A</td>\n",
       "      <td>0</td>\n",
       "      <td>56.039903</td>\n",
       "      <td>12.689080</td>\n",
       "      <td>Unknown value</td>\n",
       "      <td>NaN</td>\n",
       "      <td>0.0</td>\n",
       "      <td>0.0</td>\n",
       "      <td>NaN</td>\n",
       "      <td>JOTRON0</td>\n",
       "      <td>NaN</td>\n",
       "      <td>NaN</td>\n",
       "      <td>GPS</td>\n",
       "      <td>NaN</td>\n",
       "      <td>NaN</td>\n",
       "      <td>NaT</td>\n",
       "      <td>AIS</td>\n",
       "    </tr>\n",
       "    <tr>\n",
       "      <th>5674</th>\n",
       "      <td>2006-03-02 00:12:15</td>\n",
       "      <td>Class A</td>\n",
       "      <td>0</td>\n",
       "      <td>56.039903</td>\n",
       "      <td>12.689080</td>\n",
       "      <td>Unknown value</td>\n",
       "      <td>NaN</td>\n",
       "      <td>0.0</td>\n",
       "      <td>0.0</td>\n",
       "      <td>NaN</td>\n",
       "      <td>JOTRON0</td>\n",
       "      <td>NaN</td>\n",
       "      <td>NaN</td>\n",
       "      <td>GPS</td>\n",
       "      <td>NaN</td>\n",
       "      <td>NaN</td>\n",
       "      <td>NaT</td>\n",
       "      <td>AIS</td>\n",
       "    </tr>\n",
       "    <tr>\n",
       "      <th>...</th>\n",
       "      <td>...</td>\n",
       "      <td>...</td>\n",
       "      <td>...</td>\n",
       "      <td>...</td>\n",
       "      <td>...</td>\n",
       "      <td>...</td>\n",
       "      <td>...</td>\n",
       "      <td>...</td>\n",
       "      <td>...</td>\n",
       "      <td>...</td>\n",
       "      <td>...</td>\n",
       "      <td>...</td>\n",
       "      <td>...</td>\n",
       "      <td>...</td>\n",
       "      <td>...</td>\n",
       "      <td>...</td>\n",
       "      <td>...</td>\n",
       "      <td>...</td>\n",
       "    </tr>\n",
       "    <tr>\n",
       "      <th>374726</th>\n",
       "      <td>2006-03-02 12:30:55</td>\n",
       "      <td>Class A</td>\n",
       "      <td>999999999</td>\n",
       "      <td>55.475503</td>\n",
       "      <td>8.429478</td>\n",
       "      <td>Unknown value</td>\n",
       "      <td>NaN</td>\n",
       "      <td>0.0</td>\n",
       "      <td>141.2</td>\n",
       "      <td>NaN</td>\n",
       "      <td>NaN</td>\n",
       "      <td>NaN</td>\n",
       "      <td>NaN</td>\n",
       "      <td>Undefined</td>\n",
       "      <td>NaN</td>\n",
       "      <td>NaN</td>\n",
       "      <td>NaT</td>\n",
       "      <td>AIS</td>\n",
       "    </tr>\n",
       "    <tr>\n",
       "      <th>374894</th>\n",
       "      <td>2006-03-02 12:31:05</td>\n",
       "      <td>Class A</td>\n",
       "      <td>999999999</td>\n",
       "      <td>55.475508</td>\n",
       "      <td>8.429477</td>\n",
       "      <td>Unknown value</td>\n",
       "      <td>NaN</td>\n",
       "      <td>0.1</td>\n",
       "      <td>175.4</td>\n",
       "      <td>NaN</td>\n",
       "      <td>NaN</td>\n",
       "      <td>NaN</td>\n",
       "      <td>NaN</td>\n",
       "      <td>Undefined</td>\n",
       "      <td>NaN</td>\n",
       "      <td>NaN</td>\n",
       "      <td>NaT</td>\n",
       "      <td>AIS</td>\n",
       "    </tr>\n",
       "    <tr>\n",
       "      <th>375056</th>\n",
       "      <td>2006-03-02 12:31:15</td>\n",
       "      <td>Class A</td>\n",
       "      <td>999999999</td>\n",
       "      <td>55.475515</td>\n",
       "      <td>8.429472</td>\n",
       "      <td>Unknown value</td>\n",
       "      <td>NaN</td>\n",
       "      <td>0.4</td>\n",
       "      <td>162.7</td>\n",
       "      <td>NaN</td>\n",
       "      <td>NaN</td>\n",
       "      <td>NaN</td>\n",
       "      <td>NaN</td>\n",
       "      <td>Undefined</td>\n",
       "      <td>NaN</td>\n",
       "      <td>NaN</td>\n",
       "      <td>NaT</td>\n",
       "      <td>AIS</td>\n",
       "    </tr>\n",
       "    <tr>\n",
       "      <th>375220</th>\n",
       "      <td>2006-03-02 12:31:25</td>\n",
       "      <td>Class A</td>\n",
       "      <td>999999999</td>\n",
       "      <td>55.475528</td>\n",
       "      <td>8.429468</td>\n",
       "      <td>Unknown value</td>\n",
       "      <td>NaN</td>\n",
       "      <td>0.0</td>\n",
       "      <td>145.4</td>\n",
       "      <td>NaN</td>\n",
       "      <td>NaN</td>\n",
       "      <td>NaN</td>\n",
       "      <td>NaN</td>\n",
       "      <td>Undefined</td>\n",
       "      <td>NaN</td>\n",
       "      <td>NaN</td>\n",
       "      <td>NaT</td>\n",
       "      <td>AIS</td>\n",
       "    </tr>\n",
       "    <tr>\n",
       "      <th>375361</th>\n",
       "      <td>2006-03-02 12:31:35</td>\n",
       "      <td>Class A</td>\n",
       "      <td>999999999</td>\n",
       "      <td>55.475533</td>\n",
       "      <td>8.429465</td>\n",
       "      <td>Unknown value</td>\n",
       "      <td>NaN</td>\n",
       "      <td>0.0</td>\n",
       "      <td>86.0</td>\n",
       "      <td>NaN</td>\n",
       "      <td>NaN</td>\n",
       "      <td>NaN</td>\n",
       "      <td>NaN</td>\n",
       "      <td>Undefined</td>\n",
       "      <td>NaN</td>\n",
       "      <td>NaN</td>\n",
       "      <td>NaT</td>\n",
       "      <td>AIS</td>\n",
       "    </tr>\n",
       "  </tbody>\n",
       "</table>\n",
       "<p>688104 rows × 18 columns</p>\n",
       "</div>"
      ],
      "text/plain": [
       "                 Timestamp Type of mobile       MMSI   Latitude  Longitude  \\\n",
       "336    2006-03-02 00:00:46        Class A          0  56.039903  12.689080   \n",
       "2750   2006-03-02 00:05:56        Class A          0  56.039903  12.689080   \n",
       "2867   2006-03-02 00:06:11        Class A          0  56.039903  12.689080   \n",
       "3153   2006-03-02 00:06:47        Class A          0  56.039903  12.689080   \n",
       "5674   2006-03-02 00:12:15        Class A          0  56.039903  12.689080   \n",
       "...                    ...            ...        ...        ...        ...   \n",
       "374726 2006-03-02 12:30:55        Class A  999999999  55.475503   8.429478   \n",
       "374894 2006-03-02 12:31:05        Class A  999999999  55.475508   8.429477   \n",
       "375056 2006-03-02 12:31:15        Class A  999999999  55.475515   8.429472   \n",
       "375220 2006-03-02 12:31:25        Class A  999999999  55.475528   8.429468   \n",
       "375361 2006-03-02 12:31:35        Class A  999999999  55.475533   8.429465   \n",
       "\n",
       "       Navigational status  ROT  SOG    COG  Heading     Name  Width  Length  \\\n",
       "336          Unknown value  NaN  0.0    0.0      NaN  JOTRON0    NaN     NaN   \n",
       "2750         Unknown value  NaN  0.0    0.0      NaN  JOTRON0    NaN     NaN   \n",
       "2867         Unknown value  NaN  0.0    0.0      NaN  JOTRON0    NaN     NaN   \n",
       "3153         Unknown value  NaN  0.0    0.0      NaN  JOTRON0    NaN     NaN   \n",
       "5674         Unknown value  NaN  0.0    0.0      NaN  JOTRON0    NaN     NaN   \n",
       "...                    ...  ...  ...    ...      ...      ...    ...     ...   \n",
       "374726       Unknown value  NaN  0.0  141.2      NaN      NaN    NaN     NaN   \n",
       "374894       Unknown value  NaN  0.1  175.4      NaN      NaN    NaN     NaN   \n",
       "375056       Unknown value  NaN  0.4  162.7      NaN      NaN    NaN     NaN   \n",
       "375220       Unknown value  NaN  0.0  145.4      NaN      NaN    NaN     NaN   \n",
       "375361       Unknown value  NaN  0.0   86.0      NaN      NaN    NaN     NaN   \n",
       "\n",
       "       Type of position fixing device  Draught Destination ETA  \\\n",
       "336                               GPS      NaN         NaN NaT   \n",
       "2750                              GPS      NaN         NaN NaT   \n",
       "2867                              GPS      NaN         NaN NaT   \n",
       "3153                              GPS      NaN         NaN NaT   \n",
       "5674                              GPS      NaN         NaN NaT   \n",
       "...                               ...      ...         ...  ..   \n",
       "374726                      Undefined      NaN         NaN NaT   \n",
       "374894                      Undefined      NaN         NaN NaT   \n",
       "375056                      Undefined      NaN         NaN NaT   \n",
       "375220                      Undefined      NaN         NaN NaT   \n",
       "375361                      Undefined      NaN         NaN NaT   \n",
       "\n",
       "       Data source type  \n",
       "336                 AIS  \n",
       "2750                AIS  \n",
       "2867                AIS  \n",
       "3153                AIS  \n",
       "5674                AIS  \n",
       "...                 ...  \n",
       "374726              AIS  \n",
       "374894              AIS  \n",
       "375056              AIS  \n",
       "375220              AIS  \n",
       "375361              AIS  \n",
       "\n",
       "[688104 rows x 18 columns]"
      ]
     },
     "execution_count": 128,
     "metadata": {},
     "output_type": "execute_result"
    }
   ],
   "source": [
    "data1"
   ]
  },
  {
   "cell_type": "code",
   "execution_count": null,
   "id": "e8f4af3b-2765-4dcd-aefc-fd48cc26e207",
   "metadata": {},
   "outputs": [],
   "source": []
  },
  {
   "cell_type": "code",
   "execution_count": null,
   "id": "63f8eb86-a025-48a0-bc10-97e88a0583f9",
   "metadata": {},
   "outputs": [],
   "source": []
  },
  {
   "cell_type": "code",
   "execution_count": 129,
   "id": "99511479-1757-4bbe-9625-e99b2b1ef2a1",
   "metadata": {},
   "outputs": [],
   "source": [
    "data1 = data1.sort_values(by=['MMSI','Timestamp'])"
   ]
  },
  {
   "cell_type": "code",
   "execution_count": 130,
   "id": "7585aa59-c48e-4efc-b446-5e177582fa37",
   "metadata": {},
   "outputs": [],
   "source": [
    "groups = tuple(data1.groupby('MMSI'))"
   ]
  },
  {
   "cell_type": "code",
   "execution_count": 131,
   "id": "2b869bba-d365-4ddf-ac51-41b6a7f263da",
   "metadata": {},
   "outputs": [
    {
     "data": {
      "text/plain": [
       "2258"
      ]
     },
     "execution_count": 131,
     "metadata": {},
     "output_type": "execute_result"
    }
   ],
   "source": [
    "len(groups)"
   ]
  },
  {
   "cell_type": "code",
   "execution_count": 132,
   "id": "d7dd2765-48c7-441e-9cf8-ca8bd384065c",
   "metadata": {},
   "outputs": [],
   "source": [
    "chunk_size = 10"
   ]
  },
  {
   "cell_type": "code",
   "execution_count": 133,
   "id": "dbdf489d-46a6-4b4f-8078-53ebfa5f9b28",
   "metadata": {},
   "outputs": [],
   "source": [
    "chunk = [groups[i:i+chunk_size] for i in range(0, len(groups), chunk_size)]"
   ]
  },
  {
   "cell_type": "code",
   "execution_count": 134,
   "id": "d7a67895-1582-43d6-8197-843fcd59c826",
   "metadata": {},
   "outputs": [
    {
     "data": {
      "text/plain": [
       "226"
      ]
     },
     "execution_count": 134,
     "metadata": {},
     "output_type": "execute_result"
    }
   ],
   "source": [
    "len(chunk)"
   ]
  },
  {
   "cell_type": "code",
   "execution_count": 402,
   "id": "c22719d8-1961-417f-bf06-32e615b053f0",
   "metadata": {},
   "outputs": [],
   "source": [
    "loc_anamoly_container = pd.DataFrame()\n",
    "mmsi_ship=[]\n",
    "total_records_ship = []\n",
    "flag_count_ship =[]\n",
    "mega_jump_ship = []\n",
    "final_flag_ship = []\n",
    "final_jump_count_ship = []"
   ]
  },
  {
   "cell_type": "code",
   "execution_count": 403,
   "id": "f406017e-6420-47fc-b37e-e314c20e92c4",
   "metadata": {},
   "outputs": [],
   "source": [
    "container = chunk[0]\n",
    "mmsi , data2 = container[0]    "
   ]
  },
  {
   "cell_type": "markdown",
   "id": "f2182cdc-2d65-4d9c-8db5-33c5c67935dd",
   "metadata": {},
   "source": [
    "Manually calculating chunk spoofing: "
   ]
  },
  {
   "cell_type": "code",
   "execution_count": 408,
   "id": "d4e57bc5-8c12-4d76-b2cc-ab759961b53b",
   "metadata": {
    "scrolled": true
   },
   "outputs": [],
   "source": [
    "for i in range(len(chunk)-1):\n",
    "          for j in range(len(container)):\n",
    "                container = chunk[i]\n",
    "                mmsi , data2 = container[j]\n",
    "                \n",
    "        \n",
    "        \n",
    "            \n",
    "            \n",
    "                time2 = None\n",
    "                lat1 = None\n",
    "                lon1 = None\n",
    "                count = 0\n",
    "                flag_count = 0\n",
    "                final_flag_count = 0\n",
    "                jump_count = 0\n",
    "                flag_sequence = 0\n",
    "                flag_sequence_count = 0\n",
    "                name = 0\n",
    "                ob1 = None\n",
    "                jump_sequence = None\n",
    "                jump_sequence_count = None\n",
    "                final_jump_count = 0\n",
    "                \n",
    "                for i2,row in data2.iterrows():\n",
    "                    count+=1\n",
    "                    \n",
    "                    lat = row['Latitude']\n",
    "                    lon = row['Longitude']\n",
    "                    point = (lat,lon)   \n",
    "                    time1 = row['Timestamp']\n",
    "                    speed = row['SOG'] * 1.852\n",
    "                \n",
    "                    if count>=2:\n",
    "                        time_dif = (time1 - time2).total_seconds()/60           #in minutes\n",
    "                        dis = geodesic(point, point1).kilometers \n",
    "                        max_can_go = 1 * time_dif                               #as at 30 knot(.92 km/m) speed, ship can go 1km max in 1 minutes\n",
    "                        #print('Distance: ', dis,'KM','  Time difference: ',time_dif, 'maximum distance can cover in this time: ', max_can_go, 'Actual speed: ', \n",
    "                             # speed, \n",
    "                             # 'with actual speed should go: ', speed/60 * time_dif, time1)\n",
    "                \n",
    "                \n",
    "                        #detecting mid level anamolies \n",
    "                        if   (dis > max_can_go*3) and (dis<max_can_go * 50)  :\n",
    "                            \n",
    "                            \n",
    "                            flag_count+=1\n",
    "                            ob = data.index[count]-1\n",
    "                            #print(ob)\n",
    "                            \n",
    "                            if (flag_sequence == ob) :\n",
    "                                flag_sequence_count += 1\n",
    "                                #print('scon',flag_sequence_count)\n",
    "                                \n",
    "                            if (flag_sequence != ob) :\n",
    "                                 flag_sequence_count = 0\n",
    "                \n",
    "                                    \n",
    "                            if flag_sequence_count >=2:\n",
    "                                final_flag_count+=1\n",
    "                                flag_sequence_count = 0\n",
    "                           \n",
    "                \n",
    "                            #print(flag_sequence)\n",
    "                            flag_sequence = data.index[count]\n",
    "                         \n",
    "                            #print('flag  ')\n",
    "                \n",
    "                            #detecting jump (serious)\n",
    "                \n",
    "                        if dis > max_can_go * 50 :\n",
    "                            jump_count+=1\n",
    "                            ob1 = data.index[count]-1\n",
    "                            \n",
    "                            if (jump_sequence == ob1) :\n",
    "                                jump_sequence_count += 1         \n",
    "        \n",
    "                            if (jump_sequence != ob1) :\n",
    "                                 jump_sequence_count = 0\n",
    "        \n",
    "                            if jump_sequence_count >=1:\n",
    "                                final_jump_count+=1\n",
    "                                jump_sequence_count = 0\n",
    "        \n",
    "                            \n",
    "                            jump_sequence = data.index[count]\n",
    "        \n",
    "        \n",
    "        \n",
    "                            \n",
    "                            \n",
    "                            \n",
    "                            #print('Mega Jump  ')\n",
    "                                  \n",
    "                   \n",
    "                    time2 = time1\n",
    "                    lat1 = lat\n",
    "                    lon1 = lon\n",
    "                    point1 = (lat1,lon1)\n",
    "                    \n",
    "                \n",
    "                \n",
    "                #print('Total flag: ', flag_count,'  Mega Jump: ',jump_count, count) \n",
    "                #print('final_flag: ', final_flag_count,'\\n\\n\\n', i ,'\\n',j)\n",
    "                \n",
    "                mmsi_ship.append(mmsi)\n",
    "                total_records_ship.append(count)\n",
    "                flag_count_ship.append(flag_count)\n",
    "                mega_jump_ship.append(jump_count)\n",
    "                final_flag_ship.append(final_flag_count)\n",
    "                final_jump_count_ship.append(final_jump_count)"
   ]
  },
  {
   "cell_type": "code",
   "execution_count": null,
   "id": "f8aa78b0-caac-4c20-9f96-03a4670e355e",
   "metadata": {},
   "outputs": [],
   "source": []
  },
  {
   "cell_type": "code",
   "execution_count": 405,
   "id": "7ff0f5be-a679-48b2-88fb-21955e6206eb",
   "metadata": {},
   "outputs": [],
   "source": [
    "loc_anamoly_container['mmsi_ship']= mmsi_ship\n",
    "loc_anamoly_container['total_records_ship']= total_records_ship\n",
    "loc_anamoly_container['flag_count_ship']= flag_count_ship\n",
    "loc_anamoly_container['mega_jump_ship']= mega_jump_ship\n",
    "loc_anamoly_container['final_flag_ship']= final_flag_ship\n",
    "loc_anamoly_container['final_jump_count_ship']= final_jump_count_ship\n"
   ]
  },
  {
   "cell_type": "code",
   "execution_count": 406,
   "id": "16278547-ebee-44c7-91d4-5ff27411e201",
   "metadata": {},
   "outputs": [
    {
     "data": {
      "text/html": [
       "<div>\n",
       "<style scoped>\n",
       "    .dataframe tbody tr th:only-of-type {\n",
       "        vertical-align: middle;\n",
       "    }\n",
       "\n",
       "    .dataframe tbody tr th {\n",
       "        vertical-align: top;\n",
       "    }\n",
       "\n",
       "    .dataframe thead th {\n",
       "        text-align: right;\n",
       "    }\n",
       "</style>\n",
       "<table border=\"1\" class=\"dataframe\">\n",
       "  <thead>\n",
       "    <tr style=\"text-align: right;\">\n",
       "      <th></th>\n",
       "      <th>mmsi_ship</th>\n",
       "      <th>total_records_ship</th>\n",
       "      <th>flag_count_ship</th>\n",
       "      <th>mega_jump_ship</th>\n",
       "      <th>final_flag_ship</th>\n",
       "      <th>final_jump_count_ship</th>\n",
       "    </tr>\n",
       "  </thead>\n",
       "  <tbody>\n",
       "    <tr>\n",
       "      <th>0</th>\n",
       "      <td>0</td>\n",
       "      <td>591</td>\n",
       "      <td>0</td>\n",
       "      <td>30</td>\n",
       "      <td>0</td>\n",
       "      <td>11</td>\n",
       "    </tr>\n",
       "    <tr>\n",
       "      <th>2</th>\n",
       "      <td>1193046</td>\n",
       "      <td>476</td>\n",
       "      <td>7</td>\n",
       "      <td>102</td>\n",
       "      <td>0</td>\n",
       "      <td>36</td>\n",
       "    </tr>\n",
       "    <tr>\n",
       "      <th>1390</th>\n",
       "      <td>259759000</td>\n",
       "      <td>52</td>\n",
       "      <td>1</td>\n",
       "      <td>3</td>\n",
       "      <td>0</td>\n",
       "      <td>1</td>\n",
       "    </tr>\n",
       "    <tr>\n",
       "      <th>1681</th>\n",
       "      <td>265539620</td>\n",
       "      <td>3202</td>\n",
       "      <td>767</td>\n",
       "      <td>3</td>\n",
       "      <td>301</td>\n",
       "      <td>0</td>\n",
       "    </tr>\n",
       "  </tbody>\n",
       "</table>\n",
       "</div>"
      ],
      "text/plain": [
       "      mmsi_ship  total_records_ship  flag_count_ship  mega_jump_ship  \\\n",
       "0             0                 591                0              30   \n",
       "2       1193046                 476                7             102   \n",
       "1390  259759000                  52                1               3   \n",
       "1681  265539620                3202              767               3   \n",
       "\n",
       "      final_flag_ship  final_jump_count_ship  \n",
       "0                   0                     11  \n",
       "2                   0                     36  \n",
       "1390                0                      1  \n",
       "1681              301                      0  "
      ]
     },
     "metadata": {},
     "output_type": "display_data"
    }
   ],
   "source": [
    "with pd.option_context('Display.max_rows', None):\n",
    " display(loc_anamoly_container[(loc_anamoly_container['final_flag_ship']>=1) | (loc_anamoly_container['final_jump_count_ship']>=1) ])"
   ]
  },
  {
   "cell_type": "code",
   "execution_count": null,
   "id": "f37f0155-35df-4eba-8e42-0b19909f6c6f",
   "metadata": {},
   "outputs": [],
   "source": [
    "end = time.time()\n",
    "\n",
    "print('Total time: ' , start-end)"
   ]
  },
  {
   "cell_type": "markdown",
   "id": "1e51e7f3-7c82-4a8c-874e-6d634959b2f1",
   "metadata": {},
   "source": [
    "Now, Multicompute each chunk"
   ]
  },
  {
   "cell_type": "code",
   "execution_count": 1,
   "id": "f0100f1a-cd2a-495f-8fb1-ec25a3d88027",
   "metadata": {},
   "outputs": [],
   "source": [
    "import multiprocessing as mp"
   ]
  },
  {
   "cell_type": "raw",
   "id": "40130312-6177-4e48-9c58-dcb0faf052b8",
   "metadata": {},
   "source": []
  },
  {
   "cell_type": "code",
   "execution_count": 2,
   "id": "9c1d20a8-49ae-4aac-9be9-54909e2af79c",
   "metadata": {},
   "outputs": [
    {
     "name": "stdout",
     "output_type": "stream",
     "text": [
      "sd\n"
     ]
    }
   ],
   "source": [
    "print('sd')"
   ]
  },
  {
   "cell_type": "code",
   "execution_count": null,
   "id": "8ed07ee3-2107-4bc9-a333-30981ab65095",
   "metadata": {},
   "outputs": [],
   "source": []
  },
  {
   "cell_type": "code",
   "execution_count": 2,
   "id": "f6a8df94-9679-4249-9ce8-256f8f2fccbe",
   "metadata": {},
   "outputs": [],
   "source": []
  },
  {
   "cell_type": "code",
   "execution_count": null,
   "id": "6e6feb73-4402-4941-a62a-50ecd60c0744",
   "metadata": {},
   "outputs": [],
   "source": []
  },
  {
   "cell_type": "code",
   "execution_count": null,
   "id": "c1bc8d57-f758-48d1-9e9c-2ab53246c8a2",
   "metadata": {},
   "outputs": [],
   "source": []
  },
  {
   "cell_type": "code",
   "execution_count": null,
   "id": "29dd8574-df8a-41e9-856f-72b974644ead",
   "metadata": {},
   "outputs": [],
   "source": []
  },
  {
   "cell_type": "code",
   "execution_count": null,
   "id": "8a5b6600-dd2b-4706-be55-23f24cf0501d",
   "metadata": {},
   "outputs": [],
   "source": []
  },
  {
   "cell_type": "code",
   "execution_count": null,
   "id": "969181f7-ad5e-4dd5-b07e-c520ad933f84",
   "metadata": {},
   "outputs": [],
   "source": []
  },
  {
   "cell_type": "code",
   "execution_count": null,
   "id": "4b31267b-6d77-4bf0-ab4b-73b2bc3c9df1",
   "metadata": {},
   "outputs": [],
   "source": []
  },
  {
   "cell_type": "code",
   "execution_count": null,
   "id": "9f035666-a025-4099-9626-a7f7808761e1",
   "metadata": {},
   "outputs": [],
   "source": []
  },
  {
   "cell_type": "code",
   "execution_count": null,
   "id": "e2be17c4-99cf-4a38-aa85-fcd782da2f99",
   "metadata": {},
   "outputs": [],
   "source": []
  },
  {
   "cell_type": "code",
   "execution_count": null,
   "id": "5fc831ce-d6f3-4413-85b2-e9fb998375e7",
   "metadata": {},
   "outputs": [],
   "source": []
  },
  {
   "cell_type": "code",
   "execution_count": null,
   "id": "2c26b029-fb10-4f90-ab87-d5f2b0e977ec",
   "metadata": {},
   "outputs": [],
   "source": []
  },
  {
   "cell_type": "code",
   "execution_count": null,
   "id": "87b6ba5e-8858-454f-9017-6e229aeda3d7",
   "metadata": {},
   "outputs": [],
   "source": []
  },
  {
   "cell_type": "code",
   "execution_count": null,
   "id": "3f855687-6711-4fa6-8e44-468093921347",
   "metadata": {},
   "outputs": [],
   "source": []
  },
  {
   "cell_type": "code",
   "execution_count": null,
   "id": "f5147ea5-41e6-484f-b749-8835ebcf6205",
   "metadata": {},
   "outputs": [],
   "source": []
  },
  {
   "cell_type": "code",
   "execution_count": null,
   "id": "1b82f6a2-ce3a-41a3-bdba-445f1b62e95a",
   "metadata": {},
   "outputs": [],
   "source": []
  },
  {
   "cell_type": "code",
   "execution_count": null,
   "id": "becdea39-b4ae-4219-b615-baf8336d4ff4",
   "metadata": {},
   "outputs": [],
   "source": []
  },
  {
   "cell_type": "code",
   "execution_count": null,
   "id": "db904156-b8cb-4f3c-9705-bb84dfc25c89",
   "metadata": {},
   "outputs": [],
   "source": []
  },
  {
   "cell_type": "code",
   "execution_count": null,
   "id": "187db5ee-1fe2-40ad-82b6-aead21988abc",
   "metadata": {},
   "outputs": [],
   "source": []
  },
  {
   "cell_type": "code",
   "execution_count": null,
   "id": "792680c6-92ce-422e-8c3a-f573b38c1584",
   "metadata": {},
   "outputs": [],
   "source": []
  },
  {
   "cell_type": "code",
   "execution_count": null,
   "id": "7fc289d7-3ec3-411d-b0a7-e691e7acd801",
   "metadata": {},
   "outputs": [],
   "source": []
  },
  {
   "cell_type": "code",
   "execution_count": null,
   "id": "8d1a2604-b50e-4169-8e1f-b3de6bae4802",
   "metadata": {},
   "outputs": [],
   "source": []
  },
  {
   "cell_type": "code",
   "execution_count": null,
   "id": "5705d7c2-bcee-4886-8503-d7a11214f6e1",
   "metadata": {},
   "outputs": [],
   "source": []
  },
  {
   "cell_type": "code",
   "execution_count": null,
   "id": "3508aed3-9c48-4486-9642-50e1b7999c6a",
   "metadata": {},
   "outputs": [],
   "source": []
  }
 ],
 "metadata": {
  "kernelspec": {
   "display_name": "Python 3 (ipykernel)",
   "language": "python",
   "name": "python3"
  },
  "language_info": {
   "codemirror_mode": {
    "name": "ipython",
    "version": 3
   },
   "file_extension": ".py",
   "mimetype": "text/x-python",
   "name": "python",
   "nbconvert_exporter": "python",
   "pygments_lexer": "ipython3",
   "version": "3.12.7"
  }
 },
 "nbformat": 4,
 "nbformat_minor": 5
}
